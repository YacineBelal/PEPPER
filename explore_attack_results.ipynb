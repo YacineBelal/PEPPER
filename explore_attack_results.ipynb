{
 "cells": [
  {
   "cell_type": "code",
   "execution_count": 6,
   "metadata": {},
   "outputs": [],
   "source": [
    "import pandas as pd \n",
    "\n",
    "df = pd.read_pickle(filepath_or_buffer=\"attack_results_FedAvg_PSE2.pkl\" , compression=\"gzip\")"
   ]
  },
  {
   "cell_type": "code",
   "execution_count": 16,
   "metadata": {},
   "outputs": [
    {
     "data": {
      "text/html": [
       "<div>\n",
       "<style scoped>\n",
       "    .dataframe tbody tr th:only-of-type {\n",
       "        vertical-align: middle;\n",
       "    }\n",
       "\n",
       "    .dataframe tbody tr th {\n",
       "        vertical-align: top;\n",
       "    }\n",
       "\n",
       "    .dataframe thead th {\n",
       "        text-align: right;\n",
       "    }\n",
       "</style>\n",
       "<table border=\"1\" class=\"dataframe\">\n",
       "  <thead>\n",
       "    <tr style=\"text-align: right;\">\n",
       "      <th></th>\n",
       "      <th>Round</th>\n",
       "      <th>Attacker</th>\n",
       "      <th>Cluster_Found</th>\n",
       "    </tr>\n",
       "  </thead>\n",
       "  <tbody>\n",
       "    <tr>\n",
       "      <th>2600</th>\n",
       "      <td>0</td>\n",
       "      <td>0</td>\n",
       "      <td>[17, 77, 45, 98, 19, 38, 85, 42, 91, 26, 30, 2...</td>\n",
       "    </tr>\n",
       "    <tr>\n",
       "      <th>2601</th>\n",
       "      <td>0</td>\n",
       "      <td>1</td>\n",
       "      <td>[32, 57, 51, 25, 43, 36, 97, 11, 65, 24, 52, 9...</td>\n",
       "    </tr>\n",
       "    <tr>\n",
       "      <th>2602</th>\n",
       "      <td>0</td>\n",
       "      <td>2</td>\n",
       "      <td>[64, 62, 86, 80, 34, 3, 60, 22, 49, 88, 85, 51...</td>\n",
       "    </tr>\n",
       "    <tr>\n",
       "      <th>2603</th>\n",
       "      <td>0</td>\n",
       "      <td>3</td>\n",
       "      <td>[79, 74, 22, 28, 64, 31, 20, 61, 63, 86, 47, 5...</td>\n",
       "    </tr>\n",
       "    <tr>\n",
       "      <th>2604</th>\n",
       "      <td>0</td>\n",
       "      <td>4</td>\n",
       "      <td>[6, 51, 75, 24, 55, 27, 36, 13, 17, 59, 69, 86...</td>\n",
       "    </tr>\n",
       "    <tr>\n",
       "      <th>...</th>\n",
       "      <td>...</td>\n",
       "      <td>...</td>\n",
       "      <td>...</td>\n",
       "    </tr>\n",
       "    <tr>\n",
       "      <th>2695</th>\n",
       "      <td>0</td>\n",
       "      <td>95</td>\n",
       "      <td>[6, 28, 60, 74, 7, 59, 3, 61, 48, 70, 46, 47, ...</td>\n",
       "    </tr>\n",
       "    <tr>\n",
       "      <th>2696</th>\n",
       "      <td>0</td>\n",
       "      <td>96</td>\n",
       "      <td>[84, 45, 43, 56, 87, 24, 11, 27, 88, 77, 7, 65...</td>\n",
       "    </tr>\n",
       "    <tr>\n",
       "      <th>2697</th>\n",
       "      <td>0</td>\n",
       "      <td>97</td>\n",
       "      <td>[71, 93, 85, 92, 49, 18, 35, 72, 63, 11, 57, 7...</td>\n",
       "    </tr>\n",
       "    <tr>\n",
       "      <th>2698</th>\n",
       "      <td>0</td>\n",
       "      <td>98</td>\n",
       "      <td>[50, 77, 58, 1, 70, 11, 96, 37, 32, 84, 13, 57...</td>\n",
       "    </tr>\n",
       "    <tr>\n",
       "      <th>2699</th>\n",
       "      <td>0</td>\n",
       "      <td>99</td>\n",
       "      <td>[]</td>\n",
       "    </tr>\n",
       "  </tbody>\n",
       "</table>\n",
       "<p>100 rows × 3 columns</p>\n",
       "</div>"
      ],
      "text/plain": [
       "      Round  Attacker                                      Cluster_Found\n",
       "2600      0         0  [17, 77, 45, 98, 19, 38, 85, 42, 91, 26, 30, 2...\n",
       "2601      0         1  [32, 57, 51, 25, 43, 36, 97, 11, 65, 24, 52, 9...\n",
       "2602      0         2  [64, 62, 86, 80, 34, 3, 60, 22, 49, 88, 85, 51...\n",
       "2603      0         3  [79, 74, 22, 28, 64, 31, 20, 61, 63, 86, 47, 5...\n",
       "2604      0         4  [6, 51, 75, 24, 55, 27, 36, 13, 17, 59, 69, 86...\n",
       "...     ...       ...                                                ...\n",
       "2695      0        95  [6, 28, 60, 74, 7, 59, 3, 61, 48, 70, 46, 47, ...\n",
       "2696      0        96  [84, 45, 43, 56, 87, 24, 11, 27, 88, 77, 7, 65...\n",
       "2697      0        97  [71, 93, 85, 92, 49, 18, 35, 72, 63, 11, 57, 7...\n",
       "2698      0        98  [50, 77, 58, 1, 70, 11, 96, 37, 32, 84, 13, 57...\n",
       "2699      0        99                                                 []\n",
       "\n",
       "[100 rows x 3 columns]"
      ]
     },
     "execution_count": 16,
     "metadata": {},
     "output_type": "execute_result"
    }
   ],
   "source": [
    "df[df[\"Round\"] == 0]"
   ]
  }
 ],
 "metadata": {
  "kernelspec": {
   "display_name": "Python 3",
   "language": "python",
   "name": "python3"
  },
  "language_info": {
   "codemirror_mode": {
    "name": "ipython",
    "version": 3
   },
   "file_extension": ".py",
   "mimetype": "text/x-python",
   "name": "python",
   "nbconvert_exporter": "python",
   "pygments_lexer": "ipython3",
   "version": "3.8.16"
  },
  "orig_nbformat": 4,
  "vscode": {
   "interpreter": {
    "hash": "5b3ded1ccb95c1d9bd405e7b823d9e85424cde40fbb5985eb47e999ef50e15b4"
   }
  }
 },
 "nbformat": 4,
 "nbformat_minor": 2
}
