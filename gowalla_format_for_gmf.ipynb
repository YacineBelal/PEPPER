{
 "cells": [
  {
   "cell_type": "code",
   "execution_count": 1,
   "metadata": {},
   "outputs": [
    {
     "data": {
      "text/plain": [
       "'194108.0\\t0\\t5\\t14\\t-73.78280639649999\\t40.6438845363\\t-73.9472579956\\t40.7657052487\\n'"
      ]
     },
     "execution_count": 1,
     "metadata": {},
     "output_type": "execute_result"
    }
   ],
   "source": [
    "with open(\"GowallaNYC\",\"r\") as file:\n",
    "    gowalla = file.readlines()\n",
    "\n",
    "gowalla[0]"
   ]
  },
  {
   "cell_type": "code",
   "execution_count": 3,
   "metadata": {},
   "outputs": [],
   "source": [
    "from collections import defaultdict\n",
    "import random\n",
    "\n",
    "random.seed(42)\n",
    "\n",
    "num_pois = 10978\n",
    "\n",
    "\n",
    "def process_prmedata_format(dataset=gowalla):\n",
    "    # loading the relevant information for GMF : user, poi visited;\n",
    "    users_pois = defaultdict(list)\n",
    "    # with open(\"GowallaNYC_Formated\",\"w\") as file:\n",
    "    # file.write(\"\\t\".join(c for c in new_line))\n",
    "    # new_line = [arr[1],arr[2],\"1\"]\n",
    "    for line in dataset:\n",
    "        arr = line.split(\"\\t\")\n",
    "        user = int(arr[1])\n",
    "        if int(arr[2]) not in users_pois[user]:\n",
    "            users_pois[user].append(int(arr[2]))\n",
    "\n",
    "    # generating train and test samples (and val could be added here)\n",
    "    train_users_pois = dict()\n",
    "    validation_users_pois = dict()\n",
    "    test_users_pois = dict()\n",
    "    for user in users_pois.keys():\n",
    "        random.shuffle(users_pois[user])\n",
    "        train_users_pois[user] = users_pois[user][:int(\n",
    "            len(users_pois[user]) * 0.8)]\n",
    "        validation_users_pois[user] = users_pois[user][int(\n",
    "            len(users_pois[user]) * 0.8): int(len(users_pois[user]) * 0.9)]\n",
    "        test_users_pois[user] = users_pois[user][int(\n",
    "            len(users_pois[user]) * 0.9):]\n",
    "\n",
    "\n",
    "    \n",
    "    \n",
    "    with open(\"GowallaNYC.train.rating\", \"w\") as train_file, open(\"GowallaNYC.test.rating\", \"w\") as test_file, open(\"GowallaNYC.validation.rating\", \"w\") as validation_file:\n",
    "        for user in train_users_pois.keys():\n",
    "            for poi in train_users_pois[user]:\n",
    "                arr = [user, poi, 1]\n",
    "                train_file.write(\"\\t\".join(str(c) for c in arr) + \"\\n\")\n",
    "            for poi in validation_users_pois[user]:\n",
    "                arr = [user, poi, 1]\n",
    "                validation_file.write(\"\\t\".join(str(c) for c in arr) + \"\\n\")\n",
    "            for poi in test_users_pois[user]:\n",
    "                arr = [user, poi, 1]\n",
    "                test_file.write(\"\\t\".join(str(c) for c in arr) + \"\\n\")\n",
    "\n",
    "    with open(\"GowallaNYC.train.negative\", \"w\") as train_negative_file, open(\"GowallaNYC.test.negative\", \"w\") as test_negative_file, open(\"GowallaNYC.validation.negative\", \"w\") as validation_negative_file:\n",
    "        for user in test_users_pois.keys():\n",
    "            for poi in train_users_pois[user]:\n",
    "                negatives = []\n",
    "                for _ in range(99):\n",
    "                    j = random.randint(0, num_pois - 1)\n",
    "                    while j in test_users_pois[user] or j in train_users_pois[user] or j in validation_users_pois[user]:\n",
    "                        j = random.randint(0, num_pois - 1)\n",
    "                    negatives.append(j)\n",
    "                negatives_str = \"\\t\".join(str(n) for n in negatives)\n",
    "                line = \"(\" + str(user) + \",\" + str(poi)+\")\" + \\\n",
    "                    \" \\t \" + negatives_str + \"\\n\"\n",
    "                train_negative_file.write(line)\n",
    "            for poi in validation_users_pois[user]:\n",
    "                negatives = []\n",
    "                for _ in range(99):\n",
    "                    j = random.randint(0, num_pois - 1)\n",
    "                    while j in test_users_pois[user] or j in train_users_pois[user] or j in validation_users_pois[user]:\n",
    "                        j = random.randint(0, num_pois - 1)\n",
    "                    negatives.append(j)\n",
    "                negatives_str = \"\\t\".join(str(n) for n in negatives)\n",
    "                line = \"(\" + str(user) + \",\" + str(poi)+\")\" + \\\n",
    "                    \" \\t \" + negatives_str + \"\\n\"\n",
    "                validation_negative_file.write(line)\n",
    "            for poi in test_users_pois[user]:\n",
    "                negatives = []\n",
    "                for _ in range(99):\n",
    "                    j = random.randint(0, num_pois - 1)\n",
    "                    while j in test_users_pois[user] or j in train_users_pois[user] or j in validation_users_pois[user]:\n",
    "                        j = random.randint(0, num_pois - 1)\n",
    "                    negatives.append(j)\n",
    "                negatives_str = \"\\t\".join(str(n) for n in negatives)\n",
    "                line = \"(\" + str(user) + \",\" + str(poi) + \")\" + \\\n",
    "                    \" \\t \" + negatives_str + \"\\n\"\n",
    "                test_negative_file.write(line)\n"
   ]
  },
  {
   "cell_type": "code",
   "execution_count": 4,
   "metadata": {},
   "outputs": [],
   "source": [
    "process_prmedata_format()"
   ]
  }
 ],
 "metadata": {
  "kernelspec": {
   "display_name": "Python 3",
   "language": "python",
   "name": "python3"
  },
  "language_info": {
   "codemirror_mode": {
    "name": "ipython",
    "version": 3
   },
   "file_extension": ".py",
   "mimetype": "text/x-python",
   "name": "python",
   "nbconvert_exporter": "python",
   "pygments_lexer": "ipython3",
   "version": "3.8.16"
  },
  "orig_nbformat": 4,
  "vscode": {
   "interpreter": {
    "hash": "5b3ded1ccb95c1d9bd405e7b823d9e85424cde40fbb5985eb47e999ef50e15b4"
   }
  }
 },
 "nbformat": 4,
 "nbformat_minor": 2
}
